{
 "cells": [
  {
   "cell_type": "code",
   "execution_count": 40,
   "metadata": {},
   "outputs": [],
   "source": [
    "import wikipedia\n",
    "import nltk\n",
    "from nltk import NaiveBayesClassifier\n",
    "from nltk.tokenize import word_tokenize\n",
    "from nltk.corpus import stopwords\n",
    "from nltk.stem import SnowballStemmer\n",
    "from nltk.stem import PorterStemmer as stemmer\n",
    "from nltk import FreqDist\n",
    "from nltk.classify import apply_features\n",
    "from bs4 import BeautifulSoup\n",
    "from nltk.stem import WordNetLemmatizer\n",
    "from sklearn.feature_extraction.text import CountVectorizer\n",
    "import re"
   ]
  },
  {
   "cell_type": "code",
   "execution_count": 41,
   "metadata": {},
   "outputs": [],
   "source": [
    "def preprocessing_text(text):\n",
    "    remove_text = re.sub(r'[^a-zA-Z\\s]', '', text)\n",
    "    low_case_text = remove_text.lower()\n",
    "    token_word = word_tokenize(low_case_text)\n",
    "    stop_text = set(stopwords.words('english'))\n",
    "    cleaned_text = ' '.join([word for word in token_word if word.lower() not in stop_text])\n",
    "    soup = BeautifulSoup(cleaned_text, 'html.parser')\n",
    "    remove_html_text = soup.get_text()\n",
    "    lemmatizer = WordNetLemmatizer()\n",
    "    token_text = nltk.word_tokenize(remove_html_text)\n",
    "    lemmatized_text = ' '.join(lemmatizer.lemmatize(word) for word in token_text)\n",
    "    stemmed = SnowballStemmer('english')\n",
    "    token_text = nltk.word_tokenize(lemmatized_text)\n",
    "    filtered_text = ' '.join(stemmed.stem(word) for word in token_text)\n",
    "    return filtered_text\n",
    "\n"
   ]
  },
  {
   "cell_type": "code",
   "execution_count": 42,
   "metadata": {},
   "outputs": [],
   "source": [
    "import requests\n",
    "\n",
    "def get_wikipedia_articles_by_category(category, language = 'en', num_results=10000):\n",
    "  base_url = 'https://en.wikipedia.org/w/api.php'.format(language)\n",
    "  parameters = {\n",
    "        'action': 'query',\n",
    "        'format': 'json',\n",
    "        'list': 'categorymembers',\n",
    "        'cmtitle': 'Category:' + category,\n",
    "        'cmlimit': num_results\n",
    "  }\n",
    "  response = requests.get(base_url, parameters)\n",
    "  data = response.json()\n",
    "\n",
    "  if 'query' in data and 'categorymembers' in data['query']:\n",
    "    articles = [entry['title'] for entry in data['query']['categorymembers']]\n",
    "    return articles\n",
    "  else:\n",
    "    return None"
   ]
  },
  {
   "cell_type": "code",
   "execution_count": 43,
   "metadata": {},
   "outputs": [
    {
     "name": "stdout",
     "output_type": "stream",
     "text": [
      "Geographic articles:  ['Topography', '655th Engineer Topographic Battalion', 'Above and Below', 'George W. G. Allen', 'Altitude', 'Army Map Service', 'Bradshaw model', 'Britannia Illustrata', 'Ciénega', 'Coastline paradox', 'Contour line', 'Corps of Military Topographers of the Russian Imperial Army', 'Datum of 2022', 'Double summit', 'Elevation', 'Eötvös effect', 'Equatorial bulge', 'Fall line (topography)', 'General levelling of France', 'Geomorphology', 'Height above mean sea level', 'Inter-Services Topographic Department', 'Topographic isolation', 'Jut (topography)', 'Karst Topography', \"The King's England\", 'Landscape', 'Line of greatest slope', 'Londina Illustrata', 'Magna Britannia', 'Topographic map', 'Mill pond', 'Nadir (topography)', 'National Geodetic Vertical Datum of 1929', 'National Land Surveying and Mapping Center', 'The National Map', 'National Topographic System', 'North American Vertical Datum of 1988', 'Open terrain', 'Parastaseis syntomoi chronikai', 'Phytogeomorphology', 'Pit-and-mound topography', 'Raised-relief map', 'Ribu', 'River mile', 'River Styles Framework', 'Rosgen Stream Classification', 'Scroll plain', 'Selenography', 'Speculum Britanniae', 'Statistical Accounts of Scotland', 'Steilhang', 'Stratum Pier', 'Summit', 'Swisstopo', 'Terrain', 'Topographic profile', 'Topographic prominence', 'Topographic wetness index', 'Topographical relief of Spain', 'Ultra-prominent peak', 'Zenith', 'Template:Höhe', 'Category:Highest points', 'Category:Impact craters on Earth', 'Category:Landforms', 'Category:Lowest points', 'Category:Relief maps', 'Category:Topography of the ancient city of Rome', 'Category:Topographers', 'Category:Topography techniques', 'Category:Topography stubs', 'Tectonics', 'Asymmetric valley', 'Backstop (geology)', 'Basin and range topography', 'Collision zone', 'Continental arc', 'Critical taper', 'Cycladic Massif', 'Décollement', 'Differential stress', 'Dip-slip fault', 'Earth system interactions across mountain belts', 'Extensional tectonics', 'Fault breccia', 'Fault gouge', 'List of fault zones', 'Foreland basin', 'Franconian Line', 'Gulf of Suez Rift', 'Heat-pipe tectonics', 'High (tectonics)', 'Horse (geology)', 'Indenter tectonics', 'Inversion (geology)', 'Isopycnic', 'Lid tectonics', 'List of orogenies', 'Low-velocity zone', 'Main Central Thrust', 'Main Frontal Thrust', 'Main Himalayan Thrust', 'Manila Trench', 'Mantle wedge', 'Marsquake', 'Metamorphic core complex', 'Miogeocline', 'Morphotectonics', 'Neotectonics', 'Northern Harz Boundary Fault', 'Oblique-slip fault', 'Piggyback basin', 'Pull-apart basin', 'Rake (angle)', 'Ridge push', 'River anticline', 'Salt deformation', 'Salt tectonics', 'Seismotectonics', 'Slab suction', 'Strike-slip fault', 'Strike-slip tectonics', 'Structural evolution of the Louisiana gulf coast', 'Superswell', 'Tectonic block', 'Tectonic burial', 'Tectonic evolution of the Transantarctic Mountains', 'Tectonic influences on alluvial fans', 'Tectonic phase', 'Tectonic–climatic interaction', 'Tectonics of Mars', 'Tectonics of the South China Sea', 'Tectonics of the Tian Shan', 'Tectonophysics', 'Tectonostratigraphy', 'Thrust tectonics', 'Transfer zone', 'Vaalbara', 'Volcano tectonics', 'Yanshanian', 'Category:Tectonic landforms', 'Category:Plate tectonics', 'Category:Tectonicists', 'Category:Tectonics stubs', 'Cartography', 'Map layout', 'Outline of cartography', 'Satirical cartography', 'Template:Cartography topics', 'List of historical maps', '3D scanning', '45×90 points', 'Animated mapping', 'Argus Coastal Monitoring', 'ARINC', 'Astronomical coordinate systems', 'Atlas Linguisticus', 'Augmented Reality Sandtable', 'Autobiogeography', 'Automated weather map display', 'Azimuth', 'Bathymetry', \"Bird's-eye view\", 'Bundle adjustment', 'Cartifact', 'Cartographic censorship', 'Cartographic design', 'Cartographic expeditions to Greenland', 'Cartographic Perspectives', 'Cartographica', 'Cartography and Geographic Information Science', 'Cartography of Latin America', 'Cartopology', 'Cartouche (cartography)', 'Chart datum', 'Chorography', 'Climate TRACE', 'Coastline paradox', 'Compass rose', 'Contour line', 'Counter-mapping', 'Critical cartography', 'Cultural mapping', 'Data2map', 'DeLorme', 'Digital line graph', 'Digital raster graphic', 'Distortion', 'Double summit', 'Drying height', 'DTED', 'Easting and northing', 'European grid', 'Feature data', 'Figure-ground (cartography)', 'Flight traffic mapping', 'Fundamental plane (spherical coordinates)', 'Geodesy', 'Geographic coordinate system', 'Geographical distance', 'Geomontography', 'GeoPlanet', 'Geospatial analysis', 'Geospatial topology', 'GeoTIFF', 'GeoTime', 'Geovisualization', 'German Cartographic Society', 'Global relief model', 'Google Maps pin', 'Gore (segment)', 'Graticule (cartography)', 'Grid north', 'Projected coordinate system', 'Here be dragons', 'Hermes Road Measurement System', 'Hypsometric tints', 'Imago Mundi', 'Indigenous mapping', 'Insight Guides', 'Isoazimuth', 'Jenks natural breaks optimization', 'Journey planner', 'Land registry of Bertier de Sauvigny', 'LGTE', 'Line of greatest slope', 'Linear scale', 'Local coordinates', 'Location', 'MacChoro', 'Map', 'Map analysis', 'Map coloring', 'Map communication model', 'Map extent', 'Map matching', 'Map projection', 'Map symbol', 'Map–territory relation', 'Maximum elevation figure', 'Minimum bounding rectangle', 'Multimedia cartography', 'Nadir (topography)', 'National Elevation Dataset', 'Natural Earth', 'Natural Earth projection', 'Opisometer', 'Ordnance Survey Great Britain County Series', 'Orthophoto', 'Paper street', 'Pedometric mapping', 'Phantom settlement', 'Phase line (cartography)', 'Places & Spaces: Mapping Science', 'Planetary cartography', 'Planetary coordinate system', 'Planimetrics', 'Principal Triangulation of Great Britain', 'Qinling–Huaihe Line', 'Quadrangle (geography)', 'Quadrilateralized spherical cube', 'Revista Cartográfica', 'Rhumb line', 'Rhumbline network', 'Robotic mapping', 'Rome2Rio', 'Romer', 'Royal Corps of Military Surveyors and Draftsmen', 'Rubbersheeting', 'Rule of marteloio', 'Rutter (nautical)', 'Sand table', 'Scale (map)', 'Scribing (cartography)', 'Selenography', 'Sociomapping', 'Spatial Data Transfer Standard', 'Spatial scale', 'Spherical Earth', 'Spot height', 'Steinhaus longimeter', 'Stereoautograph', 'Styled Layer Descriptor', 'Summit', 'Superimposition', 'Tactile graphic', 'Tartary', 'D. R. Fraser Taylor', 'Terra incognita', 'Terrain cartography', 'Terrain rendering', 'Topography', 'Toposcope', 'Torrid zone', 'Trap street', 'Triangulation (novel)', 'True north', 'Typography (cartography)', 'Typometry (printing)', 'Universal Transverse Mercator coordinate system', 'Varignon frame', 'Variscale', 'Vertical exaggeration', 'Vertical Offshore Reference Frames', 'Vigia (nautical)', 'Virtual geographic environments', 'Visual analytics', 'Visual hierarchy', 'Visual variable', 'Volume cartography', 'Web Processing Service', 'World file', \"Worm's-eye view\", 'Category:Cartography by city', 'Category:Cartography by continent', 'Category:Cartography by country', 'Category:Cartographers', 'Category:Aerial photography', 'Category:Cartographic censorship', 'Category:Cave surveying', 'Category:Celestial cartography', 'Category:Circles of latitude', 'Category:Collaborative mapping', 'Category:Digital mapping', 'Category:Cartographic errors', 'Category:Gazetteers', 'Category:Geocodes', 'Category:Geodetic datums', 'Category:Geographic coordinate systems', 'Category:Geographic information systems', 'Category:Geographic object identifiers', 'Category:History of cartography', 'Category:Hydrography', 'Category:Indoor positioning system', 'Category:Cartography journals', 'Category:Meridians (geography)', 'Category:Map companies', 'Category:Map projections', 'Category:Maps', 'Category:Military cartography', 'Category:Cartography organizations', 'Category:Places', 'Category:Spatial analysis', 'Category:Topography', 'Category:Virtual globes', 'Category:Wikis about geography', 'Category:Cartography stubs', 'Geomorphology', 'Abrasion (geology)', 'Aeolian processes', 'Aggradation', 'Albtrauf', 'Alluvial river', 'Anabranch', 'Antecedent drainage stream', 'Argus Coastal Monitoring', 'Armor (hydrology)', 'Avulsion (river)', 'Azonal', 'Badlands', 'Badlands Guardian', 'Baer–Babinet law', 'Bagnold formula', 'Bank (geography)', 'Bar (river morphology)', 'Base level', 'Bathymetry', 'Beach evolution', 'Bed load', 'Bed material load', 'Bench (geology)', 'Bibliography of Aeolian Research', 'Blockfield', 'Blowout (geomorphology)', 'Blue-ice area', 'Börde', 'Bourne (stream)', 'Bradyseism', 'Braid bar', 'Braided river', 'Bratschen', 'British Society for Geomorphology', 'Bubnoff unit', 'Butte', 'Cambering', 'Catena (soil)', 'Channel pattern', 'Channel types', 'Claypan', 'Cliff-former', 'Climatic geomorphology', 'Coastal erosion', 'Coastal sediment supply', 'Coastal sediment transport', 'Colluvium', 'Columnar jointing', 'Community Surface Dynamics Modeling System', 'Complex response', 'Conical hill', 'Cryoplanation', 'Cryosuction', 'Crystal system', 'Cuesta', 'Cut bank', 'Debris flow', 'Degradation (geology)', 'Denudation', 'Denudation chronology', 'Desert', 'Diluvium', 'Dip slope', 'Dissolved load', 'Downhill creep', 'Drainage basin', 'Divide (drainage)', 'Drainage density', 'Drainage divide', 'Drainage system (geomorphology)', 'List of unusual drainage systems', 'Dreikanter', 'Dynamic steady state', 'Electromechanical disintegration', 'Emergent coastline', 'Erodability', 'Erosion and tectonics', 'Erosion surface', 'European watershed', 'Exhumed river channel', 'Exner equation', 'Fall line', 'Feeder bluff', 'Fissure', 'Flat coast', 'List of flood basalt provinces', 'Fluvial landforms of streams', 'Fluvial sediment processes', 'Forebulge', 'Frost heaving', 'Gas hydrate pingo', 'Geoconservation', 'Geological hazard', 'Giant current ripples', 'Glacier morphology', 'Graded shoreline', 'Great Russian Regions', 'Gronda lagunare', 'Groundwater sapping', 'Guelta', 'Gypsum cave', \"Hack's law\", 'Hillslope evolution', 'Hjulström curve', 'Hogback (geology)', 'Homoclinal ridge', 'Homocline', 'Hydrogeomorphology', 'Hypsometry', 'Ice dune', 'Ingression coast', 'Interior Low Plateaus', 'Interlocking spur', 'Inverted relief', 'Isostasy', 'Karst', 'Salt cave', 'Karstosphere', 'Kilometre per square kilometre', 'Knickpoint', 'Kolk (vortex)', 'Lacustrine deposits', 'Lake bifurcation', 'Lake capture', 'Land', 'Land loss', 'Landslide classification', 'Large igneous province', 'Large-scale coastal behaviour', 'Ledoyom', 'Lick (stream)', 'Lineament', 'Lisasion', 'Lithalsa', 'Log jam', 'Losing stream', 'Managed retreat', 'Manning formula', 'Marcahuasi', 'Mass wasting', 'Maya Block', 'Meander', 'Mesoregion (geomorphology)', 'Mineral spring', 'Monolith', 'Moraine', 'Mouth bar', 'Mushroom stones', 'National Center for Earth-surface Dynamics', 'Nubbin (landform)', 'Orography', 'Overhang (rock formation)', 'Overwash', 'Paleosurface', 'Palsa', 'Pediment (geology)', 'Pedra da Galinha Choca', 'Peneplain', 'Peresyp', 'Permafrost', 'Pfafstetter Coding System', 'Physiographic province', 'Physiographic region', 'List of physiographic regions', 'Pingo', 'Planation surface', \"Playfair's law\", 'Plunge pool', 'Point bar', 'Post-glacial rebound', 'Pressure ridge (ice)', 'Raised beach', 'Relief generation', 'Revolving rivers', 'Riffle-pool sequence', 'Rill', 'River', 'River bifurcation', 'River channel migration', 'River incision', 'River island', 'River morphology', 'River Styles Framework', 'River terraces (tectonic–climatic interaction)', 'Riverscape', 'Rock veneer', 'Rolling hills (geology)', 'Rosgen Stream Classification', 'Roundness (geology)', 'Sag (geology)', 'Salt pan (geology)', 'Schmidt hammer', 'Schrofen', 'Shear velocity', 'Shields formula', 'Shutter ridge', 'Slide (geography)', 'Slip-off slope', 'Slope-former', 'Slump (geology)', 'Sor (geomorphology)', 'Spill containment', 'Spring (hydrology)', 'Spur and groove formation', 'Steep coast', 'Steephead valley', 'Steilhang', 'Strahler number', 'Stream', 'Stream gradient', 'Stream head cut', 'Stream power', 'Stream power law', 'Albert Strickler', 'Subsidence', 'Suffosion', 'Surface exposure dating', 'Syngenetic permafrost growth', 'Tectonic uplift', 'Terrace (geology)', 'Terrace Crossing', 'Terrain softening', 'Thalweg', 'Tidal scour', 'Till plain', 'Tillage erosion', 'Tinaja', 'Toreva block', 'Tropical desert', 'Truttman Sink', 'U-shaped valley', 'Ukrainian Shield', 'Unaweep Canyon', 'Uvala (landform)', 'Valleuse', 'Vegetation and slope stability', 'Vein (geology)', 'Wash load', 'Wash margin', 'Weathering', 'Wetted perimeter', 'Wind erosion equation', 'Yazoo stream', 'Yucatán Platform', 'Yukon Ice Patches', 'Zero-curtain effect', 'Category:Geomorphologists', 'Category:Badlands', 'Category:Basins', 'Category:Biogeomorphology', 'Category:Climatic geomorphology', 'Category:Deserts', 'Category:Erosion', 'Category:Fluvial geomorphology', 'Category:Geotopes', 'Category:Impact craters on Earth', 'Category:Geomorphology journals', 'Category:Karst', 'Category:Landforms', 'Category:Megafloods', 'Category:Geomorphology models', 'Category:Mountain geomorphology', 'Category:Physiographic divisions', 'Category:Physiographic provinces', 'Category:Regolith', 'Category:River morphology', 'Category:Surface features of bodies of the Solar System', 'Category:Springs (hydrology)', 'Category:Topography', 'Category:Weathering', 'Category:Geomorphology stubs', 'Atmosphere of Earth', 'Climate', 'Acclimatization', 'Kouvola', 'Climate of Japan', 'Climate of Pluto', 'Climate of the Arctic', 'Climate of the European Union', 'Climate of Titan', 'Climate of Uranus', 'Climate psychology', 'Climate Vulnerability Index', 'Dimethyl sulfide', 'Directional component analysis', 'Global Paleoclimate Indicators', 'Humidity', 'Ministry of Environment and Climate Change of Somalia', 'Occupational heat stress', 'Sea ice thickness', 'Space climate', 'Tropical climate', 'Tropical marine climate', 'Urban climate', 'Category:Climate by city', 'Category:Climate by continent', 'Category:Climate by country', 'Category:Climate by mountain range', 'Category:Climatology', 'Category:Atmospheric circulation', 'Category:Meteorology and climate education', 'Category:Climate history', 'Category:Climate of Mars', 'Category:Climate patterns', 'Category:Trees by climate', 'Category:Climate variability and change', 'Category:Climate zones', 'Hydrology', 'Outline of hydrology', 'Paleohydrology', '100-year flood', 'Absorption of water', 'Acqua alta', 'Agricultural hydrology', 'Air well (condenser)', 'Antarctic sea ice', 'Antecedent drainage stream', 'Antecedent moisture', 'Antecedent soil moisture', 'Aquifer', 'Aquifer properties', 'Aquifer test', 'Arctic Intermediate Water', 'Arctic sea ice decline', 'Aridity index', 'Artesian well', 'Assimilative capacity', 'Association départementale Isère Drac Romanche', 'Balancing lake', 'Bank (geography)', 'Bank erosion', 'Bar (river morphology)', 'Barents–Kara Ice Sheet', 'Barrier island', 'Baseflow', 'Baseflow residence time', 'Beam origin concept', 'Behavioral modeling in hydrology', 'Biscayne Aquifer', 'Bound water', 'Bourne (stream)', 'Braid bar', 'Bridge scour', 'Brine', 'Buried Valley Aquifer System', 'Caladão Stream', 'Caladinho Stream', 'Canopy interception', 'Capacitance probe', 'Capillary action', 'Capillary flow porometry', 'Capillary fringe', 'Catchment hydrology', 'Cliffed coast', 'Climate inertia', 'Cline (hydrology)', 'Coastal hydrogeology', 'Coastal sediment transport', 'Communicating vessels', 'Cone of depression', 'Crest (hydrology)', 'Crop coefficient', 'Cryosuction', 'Current (hydrology)', 'Darcy (unit)', \"Darcy's law\", 'Daylighting (streams)', 'Deficit irrigation', 'Detention basin', 'Discharge (hydrology)', 'Dissolved load', 'Doce River Basin', 'Dock Road Edwardian Pumping Station', 'Double mass analysis', 'Downcutting', 'DPHM-RS', 'Drainage basin', 'Divide (drainage)', 'Drainage density', 'Drainage divide', 'Drainage equation', 'Drainage research', 'Drainage system (geomorphology)', 'List of unusual drainage systems', 'Drawdown (hydrology)', 'Drought', 'Dry dam', 'DSSAM Model', 'Lesley-Ann L. Dupigny-Giroux', 'Dupuit–Forchheimer assumption', 'Dye tracing', 'Ecohydraulics', 'Ecohydrology', 'Effective porosity', 'Effects of climate change on the water cycle', 'Endorheic basin', 'Endorheic lake', 'Evapotranspiration', 'Field capacity', 'Finite water-content vadose zone flow method', 'First flush', 'Flash drought', 'Flash flood', 'Flash flood guidance system', 'Flat coast', 'Flood', 'Flood barrier', 'Flood bypass', 'Flood forecasting', 'Flood opening', 'Flood stage', 'Flood Studies Report', 'Flood warning', 'Floodgate', 'Floodplain', 'Flow net', 'Fluid conductance', 'Fluid flow through porous media', 'Fluvial sediment processes', 'Fluvio-thermal erosion', 'Fog collection', 'Forest floor interception', 'Fossil water', 'Frequency domain sensor', 'Fresh water', 'Freshet', 'Freshwater acidification', 'Freshwater environmental quality parameters', 'Frost flower', 'Frost flower (sea ice)', 'Full pond', 'Alain Gachet', 'Generalised likelihood uncertainty estimation', 'Gewässerkennzahl', 'GIS and hydrology', 'Global meteoric water line', 'Groundwater', 'Groundwater discharge', 'Groundwater energy balance', 'Groundwater flow', 'Groundwater flow equation', 'Groundwater pollution', 'Groundwater recharge', 'Groundwater-dependent ecosystems', 'Gulf Intracoastal Waterway West Closure Complex', \"Hack's law\", 'Hadal zone', 'Hair ice', 'Head (hydrology)', 'Headward erosion', 'High water mark', 'Highland carrier', 'Hjulström curve', 'Horton overland flow', 'Hot springs in Taiwan', \"Hotspot Ecosystem Research and Man's Impact On European Seas\", 'Hotspot Ecosystems Research on the Margins of European Seas', 'Huayco', 'Hydraulic action', 'Hydraulic conductivity', 'Hydraulic diameter', 'Hydraulic head', 'Hydraulic redistribution', 'Hydraulic tomography', 'Hydrogeomorphology', 'Hydrogeophysics', 'Hydrograph', 'Hydrography', 'Hydroinformatics', 'Hydrologic unit system (United States)', 'Hydrological code', 'Hydrological Ensemble Prediction Experiment', 'Hydrological optimization', 'Hydrology in Practice', 'Hydrology of Fishing Creek (North Branch Susquehanna River tributary)', 'Hydrology of Switzerland', 'Hydrology of the Catawissa Tunnel', 'Hydrometeorology', 'Hydrometry', 'Hydrophobic soil', 'Hydrosphere', 'Hydrostatic head', 'Hyetograph', 'Hypersaline lake', 'Hyporheic zone', 'Impervious surface', 'Infiltration (hydrology)', 'Infiltration basin', 'Inflow (hydrology)', 'Ingression coast', 'Injection well', 'Instream use', 'Integrated catchment management', 'Interbasin transfer', 'Interception (water)', 'Interflow', 'Internal drainage board', 'International trade and water', 'Isotope hydrology', \"Jurin's law\", 'Keetch–Byram drought index', 'Lake ball', 'Lake bifurcation', 'LamaH', 'Land drainage (disambiguation)', 'Land drains', 'Large woody debris', 'Leaky Acres Recharge Facility', 'List of rivers that have reversed direction', 'LNAPL transmissivity', 'Losing stream', 'Lugeon', 'Macrobenthos', 'Macropore', 'Manning formula', 'Marine outfall', 'Marsh terrace', 'TDR moisture sensor', 'Meinzer Award', 'Mill pond', 'Moisture', 'Moisture recycling', 'Montana flume', 'MOSE', 'Mount Oread', 'Nappe (water)', 'National Center for Earth-surface Dynamics', 'Oasification', 'Oasis effect', 'Oceanography', 'Offshore freshened groundwater', 'Palmer drought index', 'Palmer-Bowlus Flume', 'Parshall flume', 'Pendular water', 'Penman equation', 'Penman–Monteith equation', 'Percolation trench', 'Permanent wilting point', 'Permeability (Earth sciences)', 'Pfafstetter Coding System', 'Phreatic', 'Phreatic line', 'Phytogeomorphology', 'Pipeflow', 'Pisces V', 'Plunge pool', 'Pore structure', 'Potamal', 'Potamology', 'Precipitation types', 'Precipitationshed', 'Quantitative precipitation estimation', 'Quantitative precipitation forecast', 'Rain shadow', 'Rating curve', 'Rayleigh fractionation', 'Reach (geography)', 'Retention basin', 'Return period', 'Richards equation', 'Riffle', 'Riparian buffer', 'Riparian zone', 'River bank erosion along the Ganges in Malda and Murshidabad districts', 'River bank failure', 'River bifurcation', 'River mile', 'River regime', 'Roller dam', 'Routing (hydrology)', 'Run-on', 'Runoff (hydrology)', 'Runoff curve number', 'Runoff model (reservoir)', 'Salt tide', 'Saltwater intrusion', 'Saltwater intrusion in California', 'Sediment transport', 'Shallow (underwater relief)', 'Shields formula', 'Shoal', 'Side valley', 'Slough (hydrology)', 'Slug test', 'Snow hydrology', 'Snowmelt', 'Soakage (source of water)', 'Socio-hydrology', 'Soil moisture sensor', 'Soil moisture velocity equation', 'Soil-plant-atmosphere continuum', 'Specific storage', 'Spring (hydrology)', 'Stage (hydrology)', 'Standardised Precipitation Evapotranspiration Index', 'Stemflow', 'Stew pond', 'Stoplogs', 'Stormwater detention vault', 'Strahler number', 'Stratification (water)', 'Stream', 'Stream capacity', 'Stream capture', 'Stream competency', 'Stream order', 'Stream pool', 'Stream profile', 'Stream restoration', 'Streamflow', 'Stress distribution in soil', 'Albert Strickler', 'Stygofauna', 'Subsurface dyke', 'Subsurface flow', 'Subterranean river', 'Sump (cave)', 'Surface nuclear magnetic resonance', 'Surface runoff', 'Surface water', 'Surface-water hydrology', 'Tainter gate', 'Tenaja', 'Thalweg', 'Throughfall', 'Throughflow', 'Time of concentration', 'Ezio Todini', 'Topographic wetness index', 'Total maximum daily load', 'Transpiration', 'Triple divide', 'Unimpaired runoff', 'Urban stream', 'Vadose zone', 'Vegetative treatment system', 'Wajū', 'Washout (erosion)', 'Water balance', 'Water column', 'Water content', 'Water cycle', 'Water extraction', 'Water industry', 'Water level', 'Water pyramid', 'Water remote sensing', 'Water resources', 'Water table', 'Water use in alluvial fans', 'Water year', 'Waterbody number', 'Watershed delineation', 'Watershed management', 'WEAP', 'Well drainage', 'Well test', 'Wetted perimeter', 'Wonky hole', 'Category:Water', 'Category:Hydrologists', 'Category:Aquifers', 'Category:Bifurcations', 'Category:Lakes', 'Category:Cryosphere', 'Category:Drainage basins', 'Category:Flood', 'Category:Fresh water', 'Category:Hydraulic engineering', 'Category:Hydrogeology', 'Category:Hydrography', 'Category:Hydrology and urban planning', 'Category:Hydrology lists', 'Category:Water industry', 'Category:Hydrology instrumentation', 'Category:Interbasin transfer', 'Category:Hydrology journals', 'Category:Hydrology models', 'Category:National meteorological and hydrological services', 'Category:Oceanography', 'Category:Hydrology organizations', 'Category:Riparian zone', 'Category:Hydrology software', 'Category:Springs (hydrology)', 'Category:Water supply', 'Category:Water wells', 'Category:Weirs', 'Category:Wetlands', 'Category:Hydrology stubs']\n",
      "\n",
      "Non Geographic Articles:  ['Empathy', 'Against Empathy', 'Artificial empathy', 'Clinical empathy', 'Creativity and mental health', 'Digital empathy', 'Double empathy problem', 'Ecological empathy', 'Empath', 'Empathic accuracy', 'The Empathic Civilization', 'Empathic concern', 'Empathic design', 'Empathising–systemising theory', 'Empathy gap', 'Empathy in literature', 'Empathy in media research', 'Empathy in online communities', 'Empathy quotient', 'Empathy-altruism', 'Ethnocultural empathy', 'Gender empathy gap', 'Hot-cold empathy gap', 'Light triad', 'Mimpathy', 'Schadenfreude', 'Self-other control', 'Simulation theory of empathy']\n"
     ]
    }
   ],
   "source": [
    "geographic = ['Topography','Tectonics','Cartography','Geomorphology','Climate','Hydrology']\n",
    "non_geographic = ['Resilience','Integrity','Empathy','Tenacity','Ingenuity', \"Fortitude\"]\n",
    "geographic_articles = []\n",
    "non_geographic_articles = []\n",
    "for i in range(len(geographic)):\n",
    "  geographic_category = get_wikipedia_articles_by_category(geographic[i],)\n",
    "  geographic_articles.append(geographic_category)\n",
    "geographic_articles = [article for articles in geographic_articles for article in articles]\n",
    "print(\"Geographic articles: \", geographic_articles)\n",
    "for j in range(len(non_geographic)):\n",
    "  non_geographic_category = get_wikipedia_articles_by_category(non_geographic[j],)\n",
    "  non_geographic_articles.append(non_geographic_category)\n",
    "\n",
    "non_geographic_articles = [article for articles in non_geographic_articles for article in articles]\n",
    "\n",
    "print('\\nNon Geographic Articles: ', non_geographic_articles)\n",
    "\n",
    "labeled_data = [\n",
    "    {'text': article, 'label': 1} for article in geographic_articles\n",
    "] + [\n",
    "    {'text': article, 'label': 0} for article in non_geographic_articles\n",
    "]\n",
    "import pandas as pd\n",
    "article_df = pd.DataFrame(labeled_data)"
   ]
  },
  {
   "cell_type": "code",
   "execution_count": 44,
   "metadata": {},
   "outputs": [
    {
     "name": "stderr",
     "output_type": "stream",
     "text": [
      "[nltk_data] Downloading package punkt to\n",
      "[nltk_data]     C:\\Users\\emila\\AppData\\Roaming\\nltk_data...\n",
      "[nltk_data]   Package punkt is already up-to-date!\n",
      "[nltk_data] Downloading package wordnet to\n",
      "[nltk_data]     C:\\Users\\emila\\AppData\\Roaming\\nltk_data...\n",
      "[nltk_data]   Package wordnet is already up-to-date!\n",
      "[nltk_data] Downloading package stopwords to\n",
      "[nltk_data]     C:\\Users\\emila\\AppData\\Roaming\\nltk_data...\n",
      "[nltk_data]   Package stopwords is already up-to-date!\n"
     ]
    },
    {
     "name": "stdout",
     "output_type": "stream",
     "text": [
      "Vocabulary: ['abras' 'absorpt' 'acclimat' ... 'zenith' 'zerocurtain' 'zone']\n",
      "BoW Matrix:\n",
      " [[0 0 0 ... 0 0 0]\n",
      " [0 0 0 ... 0 0 0]\n",
      " [0 0 0 ... 0 0 0]\n",
      " ...\n",
      " [0 0 0 ... 0 0 0]\n",
      " [0 0 0 ... 0 0 0]\n",
      " [0 0 0 ... 0 0 0]]\n"
     ]
    }
   ],
   "source": [
    "nltk.download('punkt')\n",
    "nltk.download('wordnet')\n",
    "nltk.download('stopwords')\n",
    "filtered_text = [preprocessing_text(doc) for doc in article_df['text']]\n",
    "\n",
    "vectorizer = CountVectorizer()\n",
    "bow_matrix = vectorizer.fit_transform(filtered_text)\n",
    "\n",
    "print(\"Vocabulary:\", vectorizer.get_feature_names_out())\n",
    "print(\"BoW Matrix:\\n\", bow_matrix.toarray())"
   ]
  },
  {
   "cell_type": "code",
   "execution_count": 45,
   "metadata": {},
   "outputs": [
    {
     "name": "stdout",
     "output_type": "stream",
     "text": [
      "Naive Bayes Accuracy:  0.9906542056074766\n",
      "Naive Bayes Classification:\n",
      "               precision    recall  f1-score   support\n",
      "\n",
      "           0       0.50      1.00      0.67         2\n",
      "           1       1.00      0.99      1.00       212\n",
      "\n",
      "    accuracy                           0.99       214\n",
      "   macro avg       0.75      1.00      0.83       214\n",
      "weighted avg       1.00      0.99      0.99       214\n",
      "\n",
      "\n",
      "Logistic Regression Accuracy: 1.0\n",
      "Logistion Regression Classification:\n",
      "               precision    recall  f1-score   support\n",
      "\n",
      "           0       1.00      1.00      1.00         2\n",
      "           1       1.00      1.00      1.00       212\n",
      "\n",
      "    accuracy                           1.00       214\n",
      "   macro avg       1.00      1.00      1.00       214\n",
      "weighted avg       1.00      1.00      1.00       214\n",
      "\n"
     ]
    }
   ],
   "source": [
    "from sklearn.model_selection import train_test_split\n",
    "from sklearn.naive_bayes import MultinomialNB\n",
    "from sklearn.linear_model import LogisticRegression\n",
    "from sklearn.metrics import accuracy_score, classification_report\n",
    "\n",
    "labels = article_df['label']\n",
    "\n",
    "X_train, X_test, y_train, y_test = train_test_split(bow_matrix, labels, test_size = 0.2, random_state = 37)\n",
    "\n",
    "nb_classifier = MultinomialNB()\n",
    "nb_classifier.fit(X_train, y_train)\n",
    "\n",
    "nb_predict = nb_classifier.predict(X_test)\n",
    "\n",
    "lr_classifier = LogisticRegression()\n",
    "lr_classifier.fit(X_train, y_train)\n",
    "\n",
    "lr_predict = lr_classifier.predict(X_test)\n",
    "\n",
    "print('Naive Bayes Accuracy: ', accuracy_score(y_test, nb_predict))\n",
    "print('Naive Bayes Classification:\\n', classification_report(y_test, nb_predict))\n",
    "\n",
    "print('\\nLogistic Regression Accuracy:', accuracy_score(y_test, lr_predict))\n",
    "print('Logistion Regression Classification:\\n', classification_report(y_test, lr_predict))"
   ]
  }
 ],
 "metadata": {
  "kernelspec": {
   "display_name": "Python 3",
   "language": "python",
   "name": "python3"
  },
  "language_info": {
   "codemirror_mode": {
    "name": "ipython",
    "version": 3
   },
   "file_extension": ".py",
   "mimetype": "text/x-python",
   "name": "python",
   "nbconvert_exporter": "python",
   "pygments_lexer": "ipython3",
   "version": "3.12.1"
  }
 },
 "nbformat": 4,
 "nbformat_minor": 2
}
